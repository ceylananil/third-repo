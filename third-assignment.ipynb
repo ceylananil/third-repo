{
 "cells": [
  {
   "cell_type": "markdown",
   "metadata": {},
   "source": [
    "**Ceylan Anil ANR: 822874 - Ana Arrabal Ortiz  ANR: 567815 - Baris Sirin ANR: 703490**"
   ]
  },
  {
   "cell_type": "markdown",
   "metadata": {},
   "source": [
    "\n",
    "# Quantal Response Equilibrium\n",
    "\n",
    "In this notebook we theoretically analyze the effectiveness Quantal Response Equilibrium. \n",
    "\n",
    "## Table of Contents\n",
    "\n",
    "<a href = '#1. Research Question'>1. Research Question</a>\n",
    "\n",
    "<a href = '#2. Motivation'>2. Motivation</a>\n",
    "\n",
    "<a href = '#3. The Assumptions of QRE'>3. The Assumptions of QRE</a>\n",
    "\n",
    "<a href = '#4. Method'> 4. Method </a>\n",
    "\n",
    "<a href = '#5. Answer'> 5. Answer </a>\n",
    "\n",
    "<a href = '#6. Model Application'> 6. Model </a>\n",
    "\n",
    "<a href = '#7. Conclusion'> 7. Conclusion </a>\n",
    "\n",
    "<a href = '#References'> References </a>"
   ]
  },
  {
   "cell_type": "markdown",
   "metadata": {},
   "source": [
    "<a id = '1. Research Question'></a>\n",
    "## 1. Research Question \n",
    "\n",
    "\n",
    "Is the Nash Equilibrium effective in predicting the decision making and strategic behavior and to what extend the QRE (Quantal Response Equilibrium) enhance the quality of the prediction? \n",
    "<a id = '2. Motivation'></a>\n",
    "## 2. Motivation\n",
    "\n",
    "Nash equilibrium assumes the perfect rational behavior of society as a whole. This means both the agents are rational and they know that the other agents are rational as well. However, the literature suggests the opposite. Experimental economics studies prove that Nash equilibrium is a poor description to analyze human behavior [(Wright and Brown, 2010)](https://cs.uwaterloo.ca/~klarson/teaching/epfl/papers/Wright10-Beyond.pdf)\n",
    "\n",
    "It is suggested by many game-theorists that QRE can enhance the predictive quality of Nash Equilibrium. In an experimental paper by [Goeree, Holt, and Palfrey (2005)](http://link.springer.com/article/10.1007/s10683-005-5374-7)\n",
    ", it is proven that when the players are boundedly-rational and they face noisy decisions; the QRE can be a better estimator than the Nash Equilibrium.\n",
    "\n",
    "Hence, we want to test empirically the efficiency of the QRE vis-à-vis the traditional Nash Equilibrium to improve our predictions on the social behavior.\n",
    "\n",
    "<a id = '3. The Assumptions of QRE'></a>\n",
    "## 3. The Assumptions of QRE\n",
    "\n",
    "The QRE assumes that people act rationally with some error. This is the only divergence from Nash Equilibrium. Hence the QRE probability function depends on the magnitude of this error.\n",
    "\n",
    "The probability of taking a certain strategy 1 is given by:\n",
    "\n",
    "\\begin{aligned}\\sigma_{i}^{*}(l)= \\frac{e^{\\lambda u_{i}(l, \\sigma_{-i}^{*})}}{\\sum_{j} e^{\\lambda u_{i}(l, \\sigma_{-i}^{*})}}\\end{aligned}\n",
    "\n",
    "where i is the player, l is the action, and $\\lambda $ is the measurement of the size of the error. The smaller $\\lambda$ indicates more randomness, while larger $\\lambda$ means we are converging to Nash equilibrium where agents are fully rational. \n",
    "\n",
    "<a id = '4. Method'></a>\n",
    "## 4.  Method  \n",
    "\n",
    "To illustrate, we are taking an example from the book  [“Behavioral Economics” (Cartwright,2011)](http://www.amazon.com/Behavioral-Economics-Routledge-Advanced-Finance/dp/0415573122), in *section 6.2.5*. We calculate the Quantal Responses of the game for $\\lambda = 1$. Then we plot the empirical results from [McKelvey, Palfrey and Weber (2000)](http://www.sciencedirect.com/science/article/pii/S0167268100001025) on the graph for quantal response predictions for different lambda levels.\n",
    "\n",
    "<a id = '5. Answer'></a>\n",
    "## 5. Answer\n",
    "\n",
    "As a <a href = '#7. Conclusion'> conclusion </a>, we showed that, empirical results from the actual experiment fit the predictions of QRE model. Hence, QRE predicted the strategic decisions better than the Nash Equilibrium.\n",
    "\n",
    "<a id = '6. Model Application'></a>\n",
    "## 6. Model \n",
    "\n",
    "Consider the game matrix in *Table1*.\n",
    "\n",
    "\n",
    "| Game 1       |            |Emma   ||\n",
    "| ------------- |:-------------:| :-----:|\n",
    "|      |  | **Right**|  **Left**|\n",
    "| **Alan**| **Up**      |   (9, 0) |(0,1) |\n",
    "|   | **Down**     |    (0,1) |(1,0) |\n",
    "\\begin{aligned}Table 1\\end{aligned}\n",
    "\n",
    "Agents: {Alan, Emma}\n",
    "\n",
    "Strategies: $σ_{A}=${Up, Down}, $σ_{E}=${Left, Right} \n",
    "\n",
    "Probability functions: $q_{U}=$ probability of action up by Alan, $p_{L}=$probability of action left by Emma\n",
    "\n",
    "The game is played one time and simultaneously.\n",
    "\n",
    "If we assumed Nash Equilibrium; we would find a mixed-strategy solution where Alan and Emma randomizes their actions, which is ($q_{U}=0.5$ and $p_{L}=0.1$).\n",
    "\n",
    "However, in QRE the values of the probabilities will depend on $\\lambda$. For instance, we can calculate the QRE for $\\lambda = 1$.\n",
    "\n",
    "First of all, we used following python packages to run the model."
   ]
  },
  {
   "cell_type": "code",
   "execution_count": 52,
   "metadata": {
    "collapsed": true
   },
   "outputs": [],
   "source": [
    "from numpy import exp, array, linspace\n",
    "import matplotlib.pyplot as plt\n",
    "from scipy import optimize, arange\n",
    "%matplotlib inline"
   ]
  },
  {
   "cell_type": "markdown",
   "metadata": {},
   "source": [
    "Then we define the payoff matrix and expected utility functions for players."
   ]
  },
  {
   "cell_type": "code",
   "execution_count": 62,
   "metadata": {
    "collapsed": true
   },
   "outputs": [],
   "source": [
    "payoffs = [[9,0],[0,1]],[[0,1],[1,0]] #2*2 game matrix\n",
    "\n",
    "def expected_utility(pl, act, pr): #expected utility for an action\n",
    "    util = payoffs[pl][act][0]*pr + payoffs[pl][act][1]*(1-pr)\n",
    "    return util"
   ]
  },
  {
   "cell_type": "markdown",
   "metadata": {},
   "source": [
    "After that, we define the following quantal response reaction functions.\n",
    "\n",
    "\\begin{aligned} P_{L}=\\frac{e^{\\lambda(1-q_{u})}}{e^{\\lambda(q_{u})}+e^{\\lambda(1-q_{u})}} \\end{aligned} and \\begin{aligned} q_{U}=\\frac{e^{\\lambda(9P_{L})}}{e^{\\lambda(9P_{L})}+e^{\\lambda(1-P_{L})}} \\end{aligned}  "
   ]
  },
  {
   "cell_type": "code",
   "execution_count": 63,
   "metadata": {
    "collapsed": true
   },
   "outputs": [],
   "source": [
    "def exponential_utility(l,pl, act, pr): \n",
    "    er = exp(l*expected_utility(pl, act, pr))\n",
    "    return er\n",
    "\n",
    "def quantal_response(l, pl, act1, act2, pr): #quantal response probability\n",
    "    qr = exponential_utility(l, pl, act1, pr)/(exponential_utility(l,pl,act1,pr) + exponential_utility(l,pl,act2,pr))\n",
    "    return qr"
   ]
  },
  {
   "cell_type": "markdown",
   "metadata": {},
   "source": [
    "If we solve these two equations we find the quantal response equilibrium for this game at $\\lambda=1$, which is quite different from the nash equlibrium.\n"
   ]
  },
  {
   "cell_type": "code",
   "execution_count": 64,
   "metadata": {
    "collapsed": false
   },
   "outputs": [
    {
     "name": "stdout",
     "output_type": "stream",
     "text": [
      "[ 0.89357633  0.31278038]\n"
     ]
    }
   ],
   "source": [
    "def vector_qr(pr, prm): #quantal response equlibrium for lambda=1 \n",
    "    return array(pr) - array([quantal_response(l, prm[0], prm[0], prm[1],pr[1]), quantal_response(l, prm[1], prm[0], prm[1],pr[0])])\n",
    "\n",
    "l=1.0\n",
    "prm=[0, 1]\n",
    "pr0 = [0.6, 0.2]    \n",
    "\n",
    "ans = optimize.fsolve(vector_qr, pr0, args=(prm))\n",
    "\n",
    "print ans"
   ]
  },
  {
   "cell_type": "markdown",
   "metadata": {},
   "source": [
    "We can also show equilibrium strategy by graphical representation. "
   ]
  },
  {
   "cell_type": "code",
   "execution_count": 65,
   "metadata": {
    "collapsed": false
   },
   "outputs": [
    {
     "data": {
      "image/png": "[encoded data removed]",
      "text/plain": [
       "<matplotlib.figure.Figure at 0x7ad2978>"
      ]
     },
     "metadata": {},
     "output_type": "display_data"
    }
   ],
   "source": [
    "range_prob = arange(0.0,1.01,0.01) #range for probabilities\n",
    "range_response1 = [quantal_response(l, 0, 0, 1, p) for p in range_prob] #quantal response function for player 1\n",
    "range_response2 = [quantal_response(l, 1, 0, 1, p) for p in range_prob] #quantal response function for player 2\n",
    "\n",
    "plt.clf() #quantal response equlibrium graph\n",
    "plt.plot(range_prob, range_response1, '-', color='r', linewidth=2, label ='Player 1') #player1\n",
    "plt.plot(range_response2, range_prob, '-', color='b', linewidth=2, label ='Player 2') #player2\n",
    "plt.title('Q. R. E. ($\\lambda=1$)', fontsize=15)\n",
    "plt.xlabel('$p_{L}$', fontsize=20)\n",
    "plt.ylabel('$q_{U}$', fontsize=20)\n",
    "plt.legend()\n",
    "plt.savefig('qr_equilibrium.png')"
   ]
  },
  {
   "cell_type": "markdown",
   "metadata": {},
   "source": [
    "Substituting between different $\\lambda$ values, Figure2 tracks the different probabilities of their actions. If $\\lambda$ is zero; it would indicate they are acting randomly. We can see that in the figure, they will choose each strategy by 0.5 probability. On the contrary, if $\\lambda$ approaches to infinity; the mixed equilibrium converges to mixed Nash equilibrium values ($q_{U}=0.5$ and $p_{L}=0.1$).\n",
    "\n",
    "We used the empirical results and aproximate $\\lambda$ estimates from [McKelvey, Palfrey and Weber (2000)](http://www.sciencedirect.com/science/article/pii/S0167268100001025).\n",
    "\n",
    "We can see that depending on the magnitude of the error, the equilibrium diverges from the Nash equilibrium. Hence, considering that people are not fully rational; QRE can enhance the efficiency of estimating strategic behavior."
   ]
  },
  {
   "cell_type": "code",
   "execution_count": 66,
   "metadata": {
    "collapsed": false
   },
   "outputs": [],
   "source": [
    "#empty list for each player\n",
    "prob1=[] \n",
    "prob2=[]\n",
    "\n",
    "#lists of responses for different lambdas\n",
    "lmb = linspace(0.01, 100, 10000)\n",
    "for l in lmb:\n",
    "    ans = optimize.fsolve(vector_qr, pr0, args=(prm))\n",
    "    prob1.append(ans[0])\n",
    "    prob2.append(ans[1])"
   ]
  },
  {
   "cell_type": "code",
   "execution_count": 80,
   "metadata": {
    "collapsed": false
   },
   "outputs": [
    {
     "data": {
      "image/png": "[encoded data removed]",
      "text/plain": [
       "<matplotlib.figure.Figure at 0x7b355c0>"
      ]
     },
     "metadata": {},
     "output_type": "display_data"
    }
   ],
   "source": [
    "range_x = arange(0, 100, 1)\n",
    "range_lambda = arange(0.0, 100.0, 0.01)\n",
    "range_lambda2 = linspace(0.1, 100, 100)\n",
    "\n",
    "pu=[0.623, 0.640, 0.623, 0.607, 0.680, 0.683] #observations for player 1\n",
    "ql=[0.243, 0.230, 0.187, 0.223, 0.317, 0.243] #observations for player 2\n",
    "lam=[6.25, 0.15, 5.25 , 7.55,3.5 , 5.0] #approximate lambda estimates\n",
    "\n",
    "plt.clf() #responses for lambdas graph\n",
    "plt.plot(range_lambda, prob1, '-', color='r', linewidth=2, label ='Player 1')\n",
    "plt.plot(range_lambda, prob2, '-', color='b', linewidth=2, label ='Player 2')\n",
    "plt.plot(lam, pu, 'ro')\n",
    "plt.plot(lam, ql, 'bo')\n",
    "\n",
    "plt.ylim(0.0,1.0)\n",
    "plt.xscale('log')\n",
    "plt.axvline(x=1, color='k', linestyle='--',linewidth=2)\n",
    "plt.title('Q. R. Correspondence', fontsize=15)\n",
    "plt.xlabel('$\\lambda$', fontsize=15)\n",
    "plt.ylabel('prob.', fontsize=15)\n",
    "plt.legend()\n",
    "plt.savefig('qr_corr.png')"
   ]
  },
  {
   "cell_type": "markdown",
   "metadata": {},
   "source": [
    "<a id = '7. Conclusion'></a>\n",
    "## 7. Conclusion\n",
    "\n",
    "In this notebook we showed that Nash Equilibrium is insufficient for predicting strategic decision making. We used the Quantal Response Equilibrium Model for better predictions,since QRE model takes  minor errors into the account, and it gets better results than Nash Equilibrium.  "
   ]
  },
  {
   "cell_type": "markdown",
   "metadata": {},
   "source": [
    "<a id = 'References'></a>\n",
    "## References\n",
    "\n",
    "\n",
    "Cartwright, E. (2014). Behavioral economics. Routledge. \n",
    "\n",
    "Goeree, J. K., Holt, C. A., & Palfrey, T. R. (2005). Regular quantal response equilibrium. Experimental Economics, 8(4), 347-367.\n",
    "\n",
    "McKelvey, R. D., Palfrey, T. R., & Weber, R. A. (2000). The effects of payoff magnitude and heterogeneity on behavior in 2× 2 games with unique mixed strategy equilibria. Journal of Economic Behavior & Organization, 42(4), 523-548.\n",
    "\n",
    "Wright, J. R., & Leyton-Brown, K. (2010, July). Beyond Equilibrium: Predicting Human Behavior in Normal-Form Games. In AAAI. \n"
   ]
  }
 ],
 "metadata": {
  "kernelspec": {
   "display_name": "Python 2",
   "language": "python",
   "name": "python2"
  },
  "language_info": {
   "codemirror_mode": {
    "name": "ipython",
    "version": 2
   },
   "file_extension": ".py",
   "mimetype": "text/x-python",
   "name": "python",
   "nbconvert_exporter": "python",
   "pygments_lexer": "ipython2",
   "version": "2.7.11"
  }
 },
 "nbformat": 4,
 "nbformat_minor": 0
}
